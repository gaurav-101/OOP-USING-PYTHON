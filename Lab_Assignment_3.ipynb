{
  "nbformat": 4,
  "nbformat_minor": 0,
  "metadata": {
    "colab": {
      "name": "Lab_Assignment_3.ipynb",
      "provenance": [],
      "authorship_tag": "ABX9TyPwo5woazUjXY0hgj9eeMPX",
      "include_colab_link": true
    },
    "kernelspec": {
      "name": "python3",
      "display_name": "Python 3"
    },
    "language_info": {
      "name": "python"
    }
  },
  "cells": [
    {
      "cell_type": "markdown",
      "metadata": {
        "id": "view-in-github",
        "colab_type": "text"
      },
      "source": [
        "<a href=\"https://colab.research.google.com/github/gaurav-101/OOP-USING-PYTHON/blob/main/Lab_Assignment_3.ipynb\" target=\"_parent\"><img src=\"https://colab.research.google.com/assets/colab-badge.svg\" alt=\"Open In Colab\"/></a>"
      ]
    },
    {
      "cell_type": "code",
      "metadata": {
        "colab": {
          "base_uri": "https://localhost:8080/"
        },
        "id": "9Hx_ocmjR_9b",
        "outputId": "fa061a31-897b-4e2b-d4c3-64dcbcf4fc20"
      },
      "source": [
        "#PROBLEM 1:\n",
        "class Student:\n",
        "    def setData(self):\n",
        "        self.name = input(\"Enter the name of student : \")\n",
        "        self.regNo = input(\"Enter the Reg No. : \")\n",
        "        self.age = int(input(\"Enter the age : \"))\n",
        "        self.gender = input(\"Enter Gender : \")\n",
        "        self.branch = input(\"Enter Branch : \")\n",
        "        self.sem = int(input(\"Enter the current sem : \"))\n",
        "\n",
        "    def getData(self):\n",
        "        print(f\"\\nName : {self.name} \\nReg No. : {self.regNo} \\nAge : {self.age} \\nGender : {self.gender} \\nBranch : {self.branch} \\nSemester : {self.sem}\")\n",
        "\n",
        "class StudentResult(Student):\n",
        "    def setData(self):\n",
        "        Student.setData(self)\n",
        "        self.totalMarks = int(input(\"Enter total marks : \"))\n",
        "        self.percentage = float(input(\"Enter percentage : \"))\n",
        "        self.grade = input(\"Enter grade : \")\n",
        "\n",
        "    def getData(self):\n",
        "        Student.getData(self)\n",
        "        print(f\"Total Marks : {self.totalMarks} \\nPercentage : {self.percentage} \\nGrade : {self.grade}\")\n",
        "\n",
        "stud1 = StudentResult()\n",
        "stud1.setData()\n",
        "stud1.getData()"
      ],
      "execution_count": 3,
      "outputs": [
        {
          "output_type": "stream",
          "name": "stdout",
          "text": [
            "Enter the name of student : Gaurav\n",
            "Enter the Reg No. : 047\n",
            "Enter the age : 19\n",
            "Enter Gender : Male\n",
            "Enter Branch : CSE\n",
            "Enter the current sem : 3\n",
            "Enter total marks : 270\n",
            "Enter percentage : 90.0\n",
            "Enter grade : A\n",
            "\n",
            "Name : Gaurav \n",
            "Reg No. : 047 \n",
            "Age : 19 \n",
            "Gender : Male \n",
            "Branch : CSE \n",
            "Semester : 3\n",
            "Total Marks : 270 \n",
            "Percentage : 90.0 \n",
            "Grade : A\n"
          ]
        }
      ]
    },
    {
      "cell_type": "code",
      "metadata": {
        "colab": {
          "base_uri": "https://localhost:8080/"
        },
        "id": "cSYn0C8PSHpa",
        "outputId": "b2d9a2b8-f51a-4dc9-964b-af67af4133fb"
      },
      "source": [
        "\n",
        "#PROBLEM 2:\n",
        "class PDF:\n",
        "    maxSize = 6144\n",
        "    def __init__(self):\n",
        "        self.creator = input(\"Enter the name of creator  : \")\n",
        "        self.description = input(\"Enter the description of the PDF : \")\n",
        "        self.fileSize = int(input(\"Enter file size (Kb) : \"))\n",
        "\n",
        "    def displayDetails(self):\n",
        "        print(f\"Creator : {self.creator} \\nDescription : {self.description} \\nFile Size : {self.fileSize}\")\n",
        "\n",
        "    def checkSize(self):\n",
        "        if self.maxSize < self.fileSize:\n",
        "            print(\"File size is beyond threshold\")\n",
        "\n",
        "\n",
        "class Pictures:\n",
        "    maxDimensions = [1280, 720]\n",
        "    maxSize = 6144\n",
        "    def __init__(self):\n",
        "        self.creator = input(\"Enter the name of creator : \")\n",
        "        self.description = input(\"Enter the description of the image : \")\n",
        "        self.imgDimensions = input(\"Enter image dimensions with space bw : \").split(\" \")\n",
        "        self.fileSize = int(input(\"Enter file size (Kb) : \"))\n",
        "\n",
        "    def displayDetails(self):\n",
        "        print(f\"Creator : {self.creator} \\nDescription : {self.description} \\nImage Dimensions : {self.imgDimensions} \\nFile Size : {self.fileSize}\")\n",
        "\n",
        "    def checkDimensions(self):\n",
        "        if self.maxDimensions[0] < int(self.imgDimensions[0]) or self.maxDimensions[1] < int(self.imgDimensions[1]):\n",
        "            print(\"Image Dimensions is too high\")\n",
        "\n",
        "    def checkSize(self):\n",
        "        if self.fileSize > self.maxSize:\n",
        "            print(\"File size is beyond threshold\")\n",
        "\n",
        "\n",
        "class CMS(PDF, Pictures):\n",
        "    def __init__(self):\n",
        "        self.PDFlist = []\n",
        "        self.PicturesList = []\n",
        "    \n",
        "    def addPDF(self):\n",
        "        temp = PDF()\n",
        "        self.PDFlist.append(temp)\n",
        "\n",
        "    def addPictures(self):\n",
        "        temp = Pictures()\n",
        "        self.PicturesList.append(temp)\n",
        "\n",
        "    def displayDetails(self):\n",
        "        print(\"PDF details : \")\n",
        "        for element in self.PDFlist:\n",
        "            element.displayDetails()\n",
        "\n",
        "        print(\"Pictures Details : \")\n",
        "        for element in self.PicturesList:\n",
        "            element.displayDetails()\n",
        "\n",
        "    \n",
        "cms1 = CMS()\n",
        "cms1.addPDF()\n",
        "cms1.addPictures()\n",
        "cms1.addPDF()\n",
        "cms1.addPictures()\n",
        "cms1.displayDetails()\n",
        "cms1.PDFlist[1].checkSize()\n",
        "cms1.PicturesList[1].checkSize()\n",
        "cms1.PicturesList[1].checkDimensions()"
      ],
      "execution_count": 4,
      "outputs": [
        {
          "output_type": "stream",
          "name": "stdout",
          "text": [
            "Enter the name of creator  : Gaurav\n",
            "Enter the description of the PDF : OOP\n",
            "Enter file size (Kb) : 1024\n",
            "Enter the name of creator : MADHAV\n",
            "Enter the description of the image : PORTRAIT\n",
            "Enter image dimensions with space bw : 1024 360\n",
            "Enter file size (Kb) : 1024\n",
            "Enter the name of creator  : Gaurav\n",
            "Enter the description of the PDF : COMPUTER ARCHITECTURE\n",
            "Enter file size (Kb) : 1024\n",
            "Enter the name of creator : CHIRAG\n",
            "Enter the description of the image : LANDSCAPE\n",
            "Enter image dimensions with space bw : 780 240\n",
            "Enter file size (Kb) : 1024\n",
            "PDF details : \n",
            "Creator : Gaurav \n",
            "Description : OOP \n",
            "File Size : 1024\n",
            "Creator : Gaurav \n",
            "Description : COMPUTER ARCHITECTURE \n",
            "File Size : 1024\n",
            "Pictures Details : \n",
            "Creator : MADHAV \n",
            "Description : PORTRAIT \n",
            "Image Dimensions : ['1024', '360'] \n",
            "File Size : 1024\n",
            "Creator : CHIRAG \n",
            "Description : LANDSCAPE \n",
            "Image Dimensions : ['780', '240'] \n",
            "File Size : 1024\n"
          ]
        }
      ]
    },
    {
      "cell_type": "code",
      "metadata": {
        "colab": {
          "base_uri": "https://localhost:8080/"
        },
        "id": "nGMo6A9TSO-5",
        "outputId": "9232f4c3-b33b-4f81-d05d-47dc2ad3cb7a"
      },
      "source": [
        "#PROBLEM 3:\n",
        "class Vehicle:\n",
        "    def __init__(self, name, mileage, capacity):\n",
        "        self.name = name\n",
        "        self.mileage = mileage\n",
        "        self.capacity = capacity\n",
        "\n",
        "    def fare(self):\n",
        "        return self.capacity * 100\n",
        "\n",
        "class Bus(Vehicle):\n",
        "    def __init__(self, name, mileage, capacity=50):\n",
        "        Vehicle.__init__(self, name, mileage, capacity)\n",
        "        self.finalAmount = Vehicle.fare(self) * 1.1\n",
        "\n",
        "    def busFare(self):\n",
        "        print(f\"BUS Fare : {self.finalAmount}\")\n",
        "\n",
        "car1 = Vehicle(\"SUV\", 12, 8)\n",
        "print(f\"Car Fare : {car1.fare()}\")\n",
        "bus1 = Bus(\"UPSRTC\", 5, 50)\n",
        "bus1.busFare()"
      ],
      "execution_count": 5,
      "outputs": [
        {
          "output_type": "stream",
          "name": "stdout",
          "text": [
            "Car Fare : 800\n",
            "BUS Fare : 5500.0\n"
          ]
        }
      ]
    }
  ]
}